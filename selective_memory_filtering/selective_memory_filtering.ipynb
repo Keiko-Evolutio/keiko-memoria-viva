{
 "cells": [
  {
   "cell_type": "markdown",
   "id": "88f18497",
   "metadata": {},
   "source": [
    "# Selektivität: Der kritische Filter\n",
    "Selektivität bedeutet, dass nur ein winziger Bruchteil der permanent auf uns einströmenden Sinneseindrücke tatsächlich ins Bewusstsein gelangt und überhaupt eine Chance hat, gespeichert zu werden. Unser Gehirn verarbeitet etwa 11 Millionen Bits pro Sekunde an sensorischen Informationen, aber nur etwa 50 Bits schaffen es ins Bewusstsein. Diese massive Filterung verhindert, dass wir im Datenmeer untergehen.\n",
    "\n",
    "Biologische Systeme haben dafür ausgeklügelte Mechanismen entwickelt: Der Thalamus fungiert als Torwächter, der entscheidet, welche sensorischen Informationen das Bewusstsein erreichen. Die Amygdala verstärkt emotional bedeutsame Ereignisse durch den „Negativity Bias“ – einen evolutionären Vorteil, der bedrohliche Stimuli bevorzugt verarbeitet. Der Hippocampus bindet Ereignisse episodisch (Ort, Zeit, Kontext), während der präfrontale Kortex durch Top-Down-Steuerung Ziele setzt und Aufmerksamkeit lenkt.\n",
    "\n",
    "Für Multi-Agent-Systeme übersetzt sich dieses Prinzip in intelligente Filterarchitekturen. Diese Systeme müssen in Echtzeit entscheiden, welche Informationen gespeichert, welche verarbeitet und welche verworfen werden – eine Herausforderung, die mit wachsender Datenmenge und Komplexität der Informationsströme überproportional zunimmt."
   ]
  },
  {
   "cell_type": "markdown",
   "id": "fe404eb8",
   "metadata": {},
   "source": [
    "---"
   ]
  },
  {
   "cell_type": "markdown",
   "id": "483751ad",
   "metadata": {},
   "source": [
    "## Selektive Speicherfilterung – Neurobiologische Grundlagen und praktische Anwendung\n",
    "\n",
    "### Problemstellung und Motivation\n",
    "\n",
    "In einer Welt rasant wachsender Datenmengen stehen Organisationen vor der zentralen Aufgabe, relevante von irrelevanten Informationen zu unterscheiden. Versicherungsunternehmen verarbeiten täglich Zehntausende Schadensmeldungen, Kundenanfragen und IoT-Sensordaten. Ohne intelligente Filterung droht kognitive Überlastung – sowohl für menschliche Sachbearbeiter als auch für automatisierte Systeme.\n",
    "\n",
    "Das menschliche Gehirn hat für dieses Problem über Millionen Jahre evolutionär hochoptimierte Mechanismen entwickelt. Von den rund 11 Millionen Bits pro Sekunde sensorischen Inputs erreichen nur etwa 50 Bits pro Sekunde die bewusste Verarbeitung – eine Filterrate von über 99,999 %. Diese massive Reduktion erfolgt durch spezialisierte neuronale Strukturen: Der **Thalamus** fungiert als Torwächter, die **Amygdala** priorisiert emotional relevante Ereignisse (Negativity Bias), der **Hippocampus** bindet Ereignisse episodisch an Kontext, und der **präfrontale Kortex** steuert Aufmerksamkeit durch Top-Down-Signale.\n",
    "\n",
    "Überträgt man diese Prinzipien auf technische Systeme, entsteht ein mehrstufiges Triage-Modell, das Salienz (Auffälligkeit), Priorität (Relevanzbewertung), zeitliche Dringlichkeit und Kontext kombiniert. Im Versicherungswesen ermöglicht dies, kritische Fälle sofort zu bearbeiten, während Routinefälle automatisiert oder nachrangig behandelt werden. Zugleich lassen sich regulatorische Anforderungen an Nachvollziehbarkeit und Fairness erfüllen.\n",
    "\n",
    "**Neurobiologischer Referenzpunkt:**  \n",
    "Mechanismen der selektiven Aufmerksamkeit (Thalamus, Amygdala, Hippocampus, PFC) als biologische Grundlage adaptiver Informationsfilterung.\n",
    "\n",
    "### Praktische Relevanz im Versicherungswesen\n",
    "\n",
    "Ein modernes Kfz-Versicherungsunternehmen verarbeitet täglich über 10.000 Schadensmeldungen, rund 50.000 Kundenanfragen und mehr als 100.000 Sensordaten vernetzter Fahrzeuge. Die Herausforderung besteht darin, aus dieser Informationsflut die wirklich relevanten Fälle zu identifizieren: Welche Schadensmeldungen erfordern sofortige Bearbeitung? Welche Muster weisen auf potenziellen Betrug hin? Welche Kundeninteraktionen sollten langfristig gespeichert werden?\n",
    "\n",
    "Die biologischen Prinzipien lassen sich auf analytische Plattformen übertragen und in vier zentrale Bausteine verdichten:\n",
    "\n",
    "- **Salienz als Merkmalsbewertung:** Auffällige Ereignisse (hohe Schadenshöhe, Personenschaden, Betrugsrisiko) werden bevorzugt verarbeitet – analog zur thalamischen Filterung irrelevanter Signale.  \n",
    "- **Priorität als Arousalverstärkung:** Dringliche Fälle (Fristnähe, Kundenwert) erhalten logarithmische Verstärkung – inspiriert durch die Amygdala-Modulation emotionaler Relevanz.  \n",
    "- **Kontext als episodische Bindung:** Loyalität, Schadenshistorie und VIP-Status fließen in die Bewertung ein – entsprechend der hippocampalen Kontextbindung.  \n",
    "- **Zeitfaktor als Dringlichkeitssignal:** Ältere unbearbeitete Meldungen werden dringlicher (Dringlichkeitsfunktion: operative Umkehrung der biologischen Vergessenskurve).\n",
    "\n",
    "Diese methodischen Leitplanken bilden die Grundlage für die anschließende Fallstudie im Versicherungswesen."
   ]
  },
  {
   "cell_type": "markdown",
   "id": "7f9ad4a4",
   "metadata": {},
   "source": [
    "---"
   ]
  },
  {
   "cell_type": "markdown",
   "id": "setup_md",
   "metadata": {},
   "source": [
    "## Setup und Imports"
   ]
  },
  {
   "cell_type": "code",
   "execution_count": 1,
   "id": "setup",
   "metadata": {},
   "outputs": [],
   "source": [
    "from __future__ import annotations\n",
    "\n",
    "import importlib.util\n",
    "import sys\n",
    "import warnings\n",
    "from pathlib import Path\n",
    "\n",
    "import ipywidgets as widgets\n",
    "import matplotlib.pyplot as plt\n",
    "import numpy as np\n",
    "from ipywidgets import interact\n",
    "\n",
    "warnings.filterwarnings(\"ignore\")\n",
    "\n",
    "# Notebook-Styling laden\n",
    "NOTEBOOK_DIR = Path.cwd()\n",
    "PROJECT_ROOT = (\n",
    "    NOTEBOOK_DIR.parent\n",
    "    if (NOTEBOOK_DIR.parent / \"notebook_style.py\").exists()\n",
    "    else NOTEBOOK_DIR\n",
    ")\n",
    "\n",
    "spec = importlib.util.spec_from_file_location(\n",
    "    \"notebook_style\", PROJECT_ROOT / \"notebook_style.py\"\n",
    ")\n",
    "if spec is None or spec.loader is None:\n",
    "    raise ImportError(\"notebook_style.py nicht gefunden\")\n",
    "\n",
    "nb_style = importlib.util.module_from_spec(spec)\n",
    "sys.modules[\"notebook_style\"] = nb_style\n",
    "spec.loader.exec_module(nb_style)\n",
    "\n",
    "PLOT_COLORS = nb_style.setup_plot_style(\n",
    "    aliases={\n",
    "        'salience': 'primary',\n",
    "        'stored': 'secondary',\n",
    "        'rejected': 'quaternary',\n",
    "        'threshold': 'accent',\n",
    "    },\n",
    "    cycle_keys=(\"primary\", \"secondary\", \"accent\"),\n",
    ")\n",
    "\n",
    "SEED = int(nb_style.SEED)\n",
    "np.random.seed(SEED)"
   ]
  },
  {
   "cell_type": "markdown",
   "id": "d859f3c5",
   "metadata": {},
   "source": [
    "---"
   ]
  },
  {
   "cell_type": "markdown",
   "id": "filterung_101",
   "metadata": {},
   "source": [
    "### Selektive Filterung\n",
    "\n",
    "#### *Salienz $S$: Wie wichtig ist das Ereignis?*\n",
    "Salienz beschreibt die Auffälligkeit eines Ereignisses. Ein großer Schaden ist auffälliger als ein kleiner. Ein altes Ereignis ist weniger auffällig als ein frisches. Ein hohes Betrugsrisiko ist auffälliger als ein niedriges.\n",
    "\n",
    "#### *Schwellenwert $θ$: Wann speichern wir?*\n",
    "Nur Ereignisse mit Salienz ≥ θ werden gespeichert. Ein niedriger Schwellenwert bedeutet: viele Ereignisse werden gespeichert. Ein hoher Schwellenwert bedeutet: nur die wichtigsten Ereignisse werden gespeichert.\n",
    "\n",
    "#### *Kapazität $K$: Wie viele Ereignisse passen in den Speicher?*\n",
    "Der Speicher hat begrenzte Kapazität (z.B. K=10 Ereignisse). Wenn der Speicher voll ist und ein neues wichtiges Ereignis kommt, ersetzen wir das Ereignis mit der geringsten Salienz.\n",
    "\n",
    "#### *Recency $τ$: Wie schnell verblassen alte Ereignisse?*\n",
    "Alte Ereignisse sind weniger auffällig als frische. Die Zeitkonstante τ steuert, wie schnell die Auffälligkeit mit dem Alter abnimmt. Ein niedriges τ bedeutet: schneller Verfall. Ein hohes τ bedeutet: langsamer Verfall."
   ]
  },
  {
   "cell_type": "markdown",
   "id": "d8c34c2f",
   "metadata": {},
   "source": [
    "---"
   ]
  },
  {
   "cell_type": "markdown",
   "id": "szenario",
   "metadata": {},
   "source": [
    "### Praktisches Szenario: Versicherungs-Schadensmeldungen\n",
    "\n",
    "**Problem:** Eine Versicherung verarbeitet täglich 10.000 Schadensmeldungen, hat aber nur 200 Sachbearbeiter. Ohne intelligente Filterung können kritische Fälle nicht rechtzeitig bearbeitet werden.\n",
    "\n",
    "**Lösung:** Intelligente Filterung basierend auf Salienz.\n",
    "\n",
    "**Features pro Schadensmeldung:**\n",
    "- **Betrag (amount):** Schadenshöhe in Euro (z.B. 500 - 50.000 €)\n",
    "- **Alter (age_days):** Wie lange liegt die Meldung vor? (z.B. 0 - 30 Tage)\n",
    "- **Risiko-Score (risk_score):** Betrugsrisiko (0.0 - 1.0)\n",
    "\n",
    "**Ziel:** Filtern Sie die wichtigsten Ereignisse basierend auf ihrer Salienz. Speichern Sie nur die Top-K Ereignisse."
   ]
  },
  {
   "cell_type": "markdown",
   "id": "salienz_formel",
   "metadata": {},
   "source": [
    "### Salienz-Score\n",
    "\n",
    "**Salienz-Score:**\n",
    "$$S(t) = w_{\\text{amount}} \\cdot \\text{amount\\_norm} + w_{\\text{recency}} \\cdot \\text{recency} + w_{\\text{risk}} \\cdot \\text{risk\\_score}$$\n",
    "\n",
    "**Komponenten:**\n",
    "- **amount_norm** = min(amount / p95, 1.0) — Normalisierte Schadenshöhe (robust: 95. Perzentil)\n",
    "- **recency** = exp(−age_days / τ) — Exponentieller Abfall (je älter, desto niedriger)\n",
    "- **risk_score** ∈ [0,1] — Betrugsrisiko (einfache Heuristik)\n",
    "- **Gewichte:** w_amount + w_recency + w_risk = 1 (z.B. 0.35 + 0.35 + 0.30)\n",
    "\n",
    "**Interpretation:**\n",
    "- S(t) ∈ [0,1] (normalisiert)\n",
    "- Hohe Salienz = wichtiges Ereignis (speichern)\n",
    "- Niedrige Salienz = unwichtiges Ereignis (verwerfen)\n",
    "\n",
    "**Neurobiologisches Mapping:**\n",
    "- Salienz <-> Hippocampale/Neuromodulatorische Filter\n",
    "- Dopamin/Noradrenalin <-> Salienz-gesteuerte Speicherung\n",
    "- Recency/τ <-> Zeitliche Empfindlichkeit der Gedächtnisspur"
   ]
  },
  {
   "cell_type": "markdown",
   "id": "gating_logik",
   "metadata": {},
   "source": [
    "### Gating-Logik: Speicherung und Ersetzung\n",
    "\n",
    "**Entscheidungsregel:**\n",
    "```\n",
    "if S(t) ≥ θ:\n",
    "    if len(memory) < K:\n",
    "        speichere Ereignis\n",
    "    else:\n",
    "        if S(t) > min(memory.salience):\n",
    "            ersetze Ereignis mit geringster Salienz\n",
    "else:\n",
    "    verwerfe Ereignis\n",
    "```\n",
    "\n",
    "**Kurz gesagt:**\n",
    "1. Wenn Salienz ≥ Schwellenwert:\n",
    "   - Wenn Speicher nicht voll: speichere das Ereignis\n",
    "   - Wenn Speicher voll: ersetze das Ereignis mit der geringsten Salienz (nur wenn das neue Ereignis wichtiger ist)\n",
    "2. Wenn Salienz < Schwellenwert: verwerfe das Ereignis\n",
    "\n",
    "**Neurobiologisches Mapping:**\n",
    "- Gating <-> Hippocampale/Neuromodulatorische Filter\n",
    "- Kapazität K <-> Ressourcenbeschränkung (begrenzte Speicherkapazität)\n",
    "- Schwellenwert θ <-> Top-Down-Kontrolle durch präfrontalen Kortex"
   ]
  },
  {
   "cell_type": "markdown",
   "id": "e2c59fa3",
   "metadata": {},
   "source": [
    "---"
   ]
  },
  {
   "cell_type": "markdown",
   "id": "implementierung_md",
   "metadata": {},
   "source": [
    "### Implementierung"
   ]
  },
  {
   "cell_type": "code",
   "execution_count": 2,
   "id": "implementierung",
   "metadata": {},
   "outputs": [],
   "source": [
    "def simulate_events(n=100, seed=42):\n",
    "    \"\"\"Simuliert Ereignis-Stream.\"\"\"\n",
    "    rng = np.random.default_rng(seed)\n",
    "    events = []\n",
    "    for i in range(n):\n",
    "        amount = rng.uniform(500, 50000)\n",
    "        age_days = rng.uniform(0, 30)\n",
    "        risk_score = rng.uniform(0, 1)\n",
    "        events.append({'amount': amount, 'age_days': age_days, 'risk_score': risk_score})\n",
    "    return events\n",
    "\n",
    "\n",
    "def compute_salience(amount, age_days, risk_score, w, tau, p95):\n",
    "    \"\"\"Berechnet Salienz-Score.\"\"\"\n",
    "    # Robuste Normierung\n",
    "    amount_norm = np.clip(amount / p95, 0.0, 1.0)\n",
    "    # Exponentieller Abfall\n",
    "    recency = np.exp(-age_days / tau)\n",
    "    # Gewichtete Summe\n",
    "    salience = w['amount'] * amount_norm + w['recency'] * recency + w['risk'] * risk_score\n",
    "    return float(np.clip(salience, 0.0, 1.0))\n",
    "\n",
    "\n",
    "def gate_memory(events, theta, k, w, tau, p95):\n",
    "    \"\"\"Filtert Ereignisse und speichert.\"\"\"\n",
    "    memory = []\n",
    "    stored_indices = []\n",
    "    salience_scores = []\n",
    "\n",
    "    for idx, event in enumerate(events):\n",
    "        s = compute_salience(event['amount'], event['age_days'], event['risk_score'], w, tau, p95)\n",
    "        salience_scores.append(s)\n",
    "\n",
    "        if s >= theta:\n",
    "            if len(memory) < k:\n",
    "                memory.append((idx, s))\n",
    "                stored_indices.append(idx)\n",
    "            else:\n",
    "                min_idx = np.argmin([m[1] for m in memory])\n",
    "                if s > memory[min_idx][1]:\n",
    "                    memory[min_idx] = (idx, s)\n",
    "                    stored_indices.append(idx)\n",
    "\n",
    "    return memory, stored_indices, salience_scores\n",
    "\n",
    "\n",
    "def plot_results(events, memory, salience_scores, theta):\n",
    "    \"\"\"Visualisiert Zeitreihe.\"\"\"\n",
    "    fig, (ax1, ax2) = plt.subplots(1, 2, figsize=(20, 7))\n",
    "\n",
    "    # Plot links: Zeitreihe der Salienz-Scores\n",
    "    stored_indices = [m[0] for m in memory]\n",
    "    colors = [PLOT_COLORS['stored'] if i in stored_indices else PLOT_COLORS['rejected'] for i in range(len(events))]\n",
    "    ax1.scatter(range(len(salience_scores)), salience_scores, c=colors, alpha=0.7, s=50)\n",
    "    ax1.axhline(theta, color=PLOT_COLORS['threshold'], linestyle='--', lw=2, label=f'Schwelle θ={theta:.2f}')\n",
    "    ax1.set_xlabel('Ereignis-Index', fontsize=11, fontweight='bold')\n",
    "    ax1.set_ylabel('Salienz S(t)', fontsize=11, fontweight='bold')\n",
    "    ax1.set_title('Zeitreihe: Salienz-Scores', fontsize=12, fontweight='bold')\n",
    "    ax1.legend(loc='upper right', fontsize=10)\n",
    "    ax1.grid(True, alpha=0.3)\n",
    "    ax1.set_ylim(-0.05, 1.05)\n",
    "\n",
    "    # Plot rechts: Aktueller Speicher (Top-K) als Balken\n",
    "    if memory:\n",
    "        memory_sorted = sorted(memory, key=lambda x: x[1], reverse=True)\n",
    "        indices = [m[0] for m in memory_sorted]\n",
    "        saliences = [m[1] for m in memory_sorted]\n",
    "        ax2.barh(range(len(memory_sorted)), saliences, color=PLOT_COLORS['salience'], alpha=0.8)\n",
    "        ax2.set_yticks(range(len(memory_sorted)))\n",
    "        ax2.set_yticklabels([f'Ereignis {i}' for i in indices], fontsize=9)\n",
    "        ax2.set_xlabel('Salienz S(t)', fontsize=11, fontweight='bold')\n",
    "        ax2.set_title(f'Aktueller Speicher (Top-{len(memory)})', fontsize=12, fontweight='bold')\n",
    "        ax2.grid(True, alpha=0.3, axis='x')\n",
    "        ax2.set_xlim(0, 1.0)\n",
    "    else:\n",
    "        ax2.text(0.5, 0.5, 'Speicher leer', ha='center', va='center', fontsize=14, transform=ax2.transAxes)\n",
    "        ax2.set_title('Aktueller Speicher (leer)', fontsize=12, fontweight='bold')\n",
    "\n",
    "    plt.tight_layout()\n",
    "    plt.show()\n",
    "    plt.close(fig)"
   ]
  },
  {
   "cell_type": "markdown",
   "id": "demo_md",
   "metadata": {},
   "source": [
    "### Interaktives Beispiel: Selektive Speicherfilterung"
   ]
  },
  {
   "cell_type": "code",
   "execution_count": 3,
   "id": "demo",
   "metadata": {},
   "outputs": [
    {
     "data": {
      "application/vnd.jupyter.widget-view+json": {
       "model_id": "6a483b51f883407380be617a0d721adf",
       "version_major": 2,
       "version_minor": 0
      },
      "text/plain": [
       "interactive(children=(FloatSlider(value=0.5, description='θ (Schwelle):', max=1.0, step=0.05), IntSlider(value…"
      ]
     },
     "metadata": {},
     "output_type": "display_data"
    },
    {
     "data": {
      "text/plain": [
       "<function __main__.update_plot(theta=0.5, k=10, tau=10.0, w_amount=0.35, w_recency=0.35)>"
      ]
     },
     "execution_count": 3,
     "metadata": {},
     "output_type": "execute_result"
    }
   ],
   "source": [
    "# Generiere Ereignis-Stream einmalig\n",
    "events = simulate_events(n=100, seed=SEED)\n",
    "p95 = np.percentile([e['amount'] for e in events], 95)\n",
    "\n",
    "\n",
    "def update_plot(theta=0.5, k=10, tau=10.0, w_amount=0.35, w_recency=0.35):\n",
    "    \"\"\"Aktualisiert die Plots basierend auf Parametern.\"\"\"\n",
    "    # Normalisiere Gewichte\n",
    "    w_risk = 1.0 - w_amount - w_recency\n",
    "    w_risk = max(0.0, min(1.0, w_risk))  # Clamp auf [0,1]\n",
    "    w = {'amount': w_amount, 'recency': w_recency, 'risk': w_risk}\n",
    "    # Gewichte auf Summe 1 normieren\n",
    "    total = w['amount'] + w['recency'] + w['risk']\n",
    "    if total > 0:\n",
    "        w = {k: v / total for k, v in w.items()}\n",
    "\n",
    "    # Filtere Ereignisse\n",
    "    memory, stored_indices, salience_scores = gate_memory(events, theta, k, w, tau, p95)\n",
    "\n",
    "    # Visualisiere\n",
    "    plot_results(events, memory, salience_scores, theta)\n",
    "\n",
    "    # Statistik\n",
    "    print(\"\\nStatistik:\")\n",
    "    print(f\"  - Gespeicherte Ereignisse: {len(memory)}/{k}\")\n",
    "    print(f\"  - Verworfene Ereignisse: {len(events) - len(memory)}/{len(events)}\")\n",
    "    accepted = sum(s >= theta for s in salience_scores)\n",
    "    print(f\"  - Akzeptanzrate (S≥θ): {accepted/len(events)*100:.1f}%\")\n",
    "    print(f\"  - Gewichte: w_amount={w_amount:.2f}, w_recency={w_recency:.2f}, w_risk={w_risk:.2f}\")\n",
    "\n",
    "\n",
    "# Interaktive Slider\n",
    "interact(\n",
    "    update_plot,\n",
    "    theta=widgets.FloatSlider(0.5, min=0.0, max=1.0, step=0.05,\n",
    "                               description='θ (Schwelle):'),\n",
    "    K=widgets.IntSlider(10, min=5, max=20, step=1,\n",
    "                         description='K (Kapazität):'),\n",
    "    tau=widgets.FloatSlider(10.0, min=1.0, max=30.0, step=1.0,\n",
    "                             description='τ (Recency):'),\n",
    "    w_amount=widgets.FloatSlider(0.35, min=0.0, max=1.0, step=0.05,\n",
    "                                  description='w_amount:'),\n",
    "    w_recency=widgets.FloatSlider(0.35, min=0.0, max=1.0, step=0.05,\n",
    "                                   description='w_recency:')\n",
    ")"
   ]
  },
  {
   "cell_type": "markdown",
   "id": "c4b961e5",
   "metadata": {},
   "source": [
    "---"
   ]
  },
  {
   "cell_type": "markdown",
   "id": "interpretation",
   "metadata": {},
   "source": [
    "### Interpretation der Ergebnisse\n",
    "\n",
    "**Was beobachten wir?**\n",
    "\n",
    "1. **Hoher Schwellenwert (θ = 0.7-1.0):**\n",
    "   - Wenige Ereignisse werden gespeichert\n",
    "   - Nur die wichtigsten Fälle landen im Speicher\n",
    "   - Durchlassrate: niedrig (z.B. 5-10%)\n",
    "\n",
    "2. **Niedriger Schwellenwert (θ = 0.0-0.3):**\n",
    "   - Viele Ereignisse werden gespeichert\n",
    "   - Speicher füllt sich schnell\n",
    "   - Durchlassrate: hoch (z.B. 50-80%)\n",
    "\n",
    "3. **Kleine Kapazität (K = 5):**\n",
    "   - Speicher füllt sich schnell\n",
    "   - Alte, weniger wichtige Ereignisse werden ersetzt\n",
    "   - Nur die Top-5 wichtigsten Ereignisse bleiben\n",
    "\n",
    "4. **Große Kapazität (K = 20):**\n",
    "   - Speicher füllt sich langsamer\n",
    "   - Mehr Ereignisse können gespeichert werden\n",
    "   - Weniger Ersetzungen\n",
    "\n",
    "5. **Hohe Recency-Gewichtung (w_recency = 0.7):**\n",
    "   - Frische Ereignisse werden bevorzugt\n",
    "   - Alte Ereignisse verlieren schnell an Salienz\n",
    "   - Zeitliche Nähe ist wichtig\n",
    "\n",
    "6. **Hohe Betrag-Gewichtung (w_amount = 0.7):**\n",
    "   - Große Schäden werden bevorzugt\n",
    "   - Kleine Schäden verlieren schnell an Salienz\n",
    "   - Schadenshöhe ist wichtig\n",
    "\n",
    "**Praxisleitfaden:**\n",
    "- **Konservativ:** Hoher θ, kleine K -> Nur kritische Fälle\n",
    "- **Ausgewogen:** Mittlerer θ, mittleres K -> Balance zwischen Speicher und Filterung\n",
    "- **Aggressiv:** Niedriger θ, große K -> Viele Fälle werden gespeichert"
   ]
  },
  {
   "cell_type": "markdown",
   "id": "5439885a",
   "metadata": {},
   "source": [
    "---"
   ]
  },
  {
   "cell_type": "markdown",
   "id": "neurobiologie",
   "metadata": {},
   "source": [
    "### Neurobiologische Grundlagen\n",
    "\n",
    "#### Warum funktioniert dieses Modell biologisch?\n",
    "\n",
    "**1. Salienz-gesteuerte Speicherung <-> Hippocampale/Neuromodulatorische Filter**\n",
    "- Das Gehirn speichert bevorzugt auffällige (salient) Ereignisse\n",
    "- Der Hippocampus bindet Ereignisse episodisch (Ort, Zeit, Kontext)\n",
    "- Neuromodulatoren (Dopamin, Noradrenalin) verstärken die Speicherung wichtiger Ereignisse\n",
    "- Dieses Modell: S(t) ≥ θ entscheidet über Speicherung\n",
    "\n",
    "**2. Dopamin/Noradrenalin <-> Salienz-gesteuerte Speicherung**\n",
    "- Dopamin wird bei überraschenden oder wichtigen Ereignissen freigesetzt\n",
    "- Noradrenalin verstärkt die Aufmerksamkeit bei Stress oder Gefahr\n",
    "- Beide Neurotransmitter fördern die Gedächtniskonsolidierung\n",
    "- Dieses Modell: Hohe Salienz = starkes Dopamin-Signal = Speicherung\n",
    "\n",
    "**3. Kapazität K <-> Ressourcenbeschränkung**\n",
    "- Das Gehirn hat begrenzte Speicherkapazität\n",
    "- Nicht alle Ereignisse können gespeichert werden\n",
    "- Wichtige Ereignisse verdrängen weniger wichtige\n",
    "- Dieses Modell: K Ereignisse im Speicher, Ersetzung bei Bedarf\n",
    "\n",
    "**4. Recency/τ <-> Zeitliche Empfindlichkeit der Gedächtnisspur**\n",
    "- Frische Ereignisse sind auffälliger als alte\n",
    "- Die Gedächtnisspur verblasst exponentiell (Ebbinghaus-Vergessenskurve)\n",
    "- Die Zeitkonstante τ steuert die Geschwindigkeit des Verfalls\n",
    "- Dieses Modell: recency = exp(−age_days/τ) beschreibt den Verfall"
   ]
  },
  {
   "cell_type": "markdown",
   "id": "65538802",
   "metadata": {},
   "source": [
    "---"
   ]
  },
  {
   "cell_type": "markdown",
   "id": "ea1d8e9b",
   "metadata": {},
   "source": [
    "### Zusammenfassung\n",
    "Das Salienz-Filterungs-Modell vereint bewährte Konzepte der Neurowissenschaft – etwa Hippocampus-Dynamik, neuromodulatorische Steuerung und Mechanismen der Gedächtniskonsolidierung – in einer praxisorientierten, technisch umsetzbaren Architektur."
   ]
  }
 ],
 "metadata": {
  "kernelspec": {
   "display_name": ".venv (3.13.5)",
   "language": "python",
   "name": "python3"
  },
  "language_info": {
   "codemirror_mode": {
    "name": "ipython",
    "version": 3
   },
   "file_extension": ".py",
   "mimetype": "text/x-python",
   "name": "python",
   "nbconvert_exporter": "python",
   "pygments_lexer": "ipython3",
   "version": "3.13.5"
  }
 },
 "nbformat": 4,
 "nbformat_minor": 5
}
